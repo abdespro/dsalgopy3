{
 "cells": [
  {
   "cell_type": "markdown",
   "metadata": {},
   "source": [
    "#### Algorithm to add two numbers entered by the user\n",
    "\n",
    "<code>\n",
    "    Step 1: Start\n",
    "    Step 2: Declare variables num1, num2 and sum. \n",
    "    Step 3: Read values num1 and num2. \n",
    "    Step 4: Add num1 and num2 and assign the result to sum.\n",
    "        sum←num1+num2 \n",
    "    Step 5: Display sum \n",
    "    Step 6: Stop\n",
    "</code>"
   ]
  },
  {
   "cell_type": "code",
   "execution_count": 1,
   "metadata": {},
   "outputs": [
    {
     "name": "stdin",
     "output_type": "stream",
     "text": [
      "Enter number 1:  21\n",
      "Enter number 2:  23\n"
     ]
    },
    {
     "name": "stdout",
     "output_type": "stream",
     "text": [
      "Sum is:  44\n"
     ]
    }
   ],
   "source": [
    "num1 = eval(input(\"Enter number 1: \"))\n",
    "num2 = eval(input(\"Enter number 2: \"))\n",
    "\n",
    "sum_ = num1 + num2\n",
    "print(\"Sum is: \", sum_)"
   ]
  },
  {
   "cell_type": "markdown",
   "metadata": {},
   "source": [
    "#### Find the largest number among three different numbers\n",
    "\n",
    "<code>\n",
    "    Step 1: Start\n",
    "    Step 2: Declare variables a,b and c.\n",
    "    Step 3: Read variables a,b and c.\n",
    "    Step 4: If a > b\n",
    "               If a > c\n",
    "                  Display a is the largest number.\n",
    "               Else\n",
    "                  Display c is the largest number.\n",
    "            Else\n",
    "               If b > c\n",
    "                  Display b is the largest number.\n",
    "               Else\n",
    "                  Display c is the greatest number.  \n",
    "    Step 5: Stop\n",
    "</code>"
   ]
  },
  {
   "cell_type": "code",
   "execution_count": 2,
   "metadata": {},
   "outputs": [
    {
     "name": "stdin",
     "output_type": "stream",
     "text": [
      "a:  5\n",
      "b:  2\n",
      "c:  8\n"
     ]
    },
    {
     "name": "stdout",
     "output_type": "stream",
     "text": [
      "c: 8 is the largest number.\n"
     ]
    }
   ],
   "source": [
    "a = eval(input(\"a: \"))\n",
    "b = eval(input(\"b: \"))\n",
    "c = eval(input(\"c: \"))\n",
    "\n",
    "if a>b:\n",
    "    if a>c:\n",
    "        print(f\"a: {a} is the largest number.\")\n",
    "    else:\n",
    "        print(f\"c: {c} is the largest number.\")\n",
    "else:\n",
    "    if b>c:\n",
    "        print(f\"b: {b} is the largest number.\")\n",
    "    else:\n",
    "        print(f\"c: {c} is the largest number.\")"
   ]
  },
  {
   "cell_type": "markdown",
   "metadata": {},
   "source": [
    "#### Roots of a quadratic equation ax<sup>2</sup> + bx + c = 0\n",
    "\n",
    "<code>\n",
    "    Step 1: Start\n",
    "    Step 2: Declare variables a, b, c, D, x1, x2, rp and ip;\n",
    "    Step 3: Calculate discriminant\n",
    "             D ← b2-4ac\n",
    "    Step 4: If D ≥ 0\n",
    "                  r1 ← (-b+√D)/2a\n",
    "                  r2 ← (-b-√D)/2a \n",
    "                  Display r1 and r2 as roots.\n",
    "            Else     \n",
    "                  Calculate real part and imaginary part\n",
    "                  rp ← -b/2a\n",
    "                  ip ← √(-D)/2a\n",
    "                  Display rp+j(ip) and rp-j(ip) as roots\n",
    "    Step 5: Stop   \n",
    "</code>"
   ]
  },
  {
   "cell_type": "code",
   "execution_count": 10,
   "metadata": {},
   "outputs": [
    {
     "name": "stdin",
     "output_type": "stream",
     "text": [
      "value of a:  2\n",
      "value of b:  5\n",
      "value of c:  2\n"
     ]
    },
    {
     "name": "stdout",
     "output_type": "stream",
     "text": [
      "root1 -0.5 \n",
      "root2 -2.0\n"
     ]
    }
   ],
   "source": [
    "from math import sqrt\n",
    "a = eval(input(\"value of a: \"))\n",
    "b = eval(input(\"value of b: \"))\n",
    "c = eval(input(\"value of c: \"))\n",
    "\n",
    "# discriminant\n",
    "D = pow(b, 2) - 4*a*c\n",
    "\n",
    "# roots\n",
    "if D>=0:\n",
    "    r1 = (-b + sqrt(D))/(2*a)\n",
    "    r2 = (-b - sqrt(D))/(2*a)\n",
    "    print(f\"root1 {r1} \\nroot2 {r2}\")\n",
    "else:\n",
    "    rp = -b/(2*a)\n",
    "    ip = sqrt(abs(D))/(2*a)\n",
    "    print(\"root1 {:.2f}+{:.2f}j\".format(rp, ip))\n",
    "    print(\"root2 {:.2f}-{:.2f}j\".format(rp, ip))\n",
    "    "
   ]
  },
  {
   "cell_type": "markdown",
   "metadata": {},
   "source": [
    "#### Factorial of a number entered by the user\n",
    "\n",
    "<code>\n",
    "    Step 1: Start\n",
    "    Step 2: Declare variables n, factorial and i.\n",
    "    Step 3: Initialize variables\n",
    "              factorial ← 1\n",
    "              i ← 1\n",
    "    Step 4: Read value of n\n",
    "    Step 5: Repeat the steps until i = n\n",
    "         5.1: factorial ← factorial*i\n",
    "         5.2: i ← i+1\n",
    "    Step 6: Display factorial\n",
    "    Step 7: Stop\n",
    "</code>"
   ]
  },
  {
   "cell_type": "code",
   "execution_count": 27,
   "metadata": {},
   "outputs": [
    {
     "name": "stdin",
     "output_type": "stream",
     "text": [
      "Enter number:  5\n"
     ]
    },
    {
     "name": "stdout",
     "output_type": "stream",
     "text": [
      "Factorial of 5: 120\n"
     ]
    }
   ],
   "source": [
    "factorial = 1\n",
    "i = 1\n",
    "n = eval(input(\"Enter number: \"))\n",
    "while i <= n:\n",
    "    factorial = factorial * i\n",
    "    i = i + 1\n",
    "print(f\"Factorial of {n}: {factorial}\")"
   ]
  },
  {
   "cell_type": "code",
   "execution_count": 26,
   "metadata": {},
   "outputs": [
    {
     "name": "stdin",
     "output_type": "stream",
     "text": [
      "Enter the number:  5\n"
     ]
    },
    {
     "name": "stdout",
     "output_type": "stream",
     "text": [
      "Factorial: 120\n"
     ]
    }
   ],
   "source": [
    "# using recursion\n",
    "def factorial_of(n):\n",
    "    # BaseCase\n",
    "    if n == 1:\n",
    "        return n\n",
    "    return n*factorial_of(n-1)\n",
    "\n",
    "print(f\"Factorial: {factorial_of(eval(input('Enter the number: ')))}\")"
   ]
  },
  {
   "cell_type": "markdown",
   "metadata": {},
   "source": [
    "#### Check whether a number is a prime number or not\n",
    "\n",
    "<code>\n",
    "    Step 1: Start\n",
    "    Step 2: Declare variables n, i, flag.\n",
    "    Step 3: Initialize variables\n",
    "            flag ← 1\n",
    "            i ← 2  \n",
    "    Step 4: Read n from the user.\n",
    "    Step 5: Repeat the steps until i=(n/2)\n",
    "         5.1 If remainder of n÷i equals 0\n",
    "                flag ← 0\n",
    "                Go to step 6\n",
    "         5.2 i ← i+1\n",
    "    Step 6: If flag = 0\n",
    "               Display n is not prime\n",
    "            else\n",
    "               Display n is prime\n",
    "    Step 7: Stop \n",
    "</code>"
   ]
  },
  {
   "cell_type": "code",
   "execution_count": 25,
   "metadata": {},
   "outputs": [
    {
     "name": "stdin",
     "output_type": "stream",
     "text": [
      "Enter a number:  2\n"
     ]
    },
    {
     "name": "stdout",
     "output_type": "stream",
     "text": [
      "2 is prime.\n"
     ]
    }
   ],
   "source": [
    "flag = 1\n",
    "i = 2\n",
    "n = eval(input(\"Enter a number: \"))\n",
    "while i <= n/2:\n",
    "    if n%i==0:\n",
    "        flag = 0\n",
    "        break\n",
    "    i = i + 1\n",
    "if flag == 0:\n",
    "    print(f\"{n} is not prime.\")\n",
    "else:\n",
    "    print(f\"{n} is prime.\")"
   ]
  },
  {
   "cell_type": "code",
   "execution_count": 21,
   "metadata": {},
   "outputs": [
    {
     "name": "stdin",
     "output_type": "stream",
     "text": [
      "Enter number:  4\n"
     ]
    },
    {
     "name": "stdout",
     "output_type": "stream",
     "text": [
      "Is prime: False\n"
     ]
    }
   ],
   "source": [
    "# naive approach\n",
    "def is_prime(n):\n",
    "    for i in range(2, n):\n",
    "        if n%i == 0:\n",
    "            return False\n",
    "        \n",
    "    return True\n",
    "\n",
    "print(f\"Is prime: {is_prime(eval(input('Enter number: ')))}\")"
   ]
  },
  {
   "cell_type": "markdown",
   "metadata": {},
   "source": [
    "#### Find the Fibonacci series till term ≤ 1000.\n",
    "\n",
    "<code>\n",
    "    Step 1: Start \n",
    "    Step 2: Declare variables first_term,second_term and temp. \n",
    "    Step 3: Initialize variables first_term ← 0 second_term ← 1 \n",
    "    Step 4: Display first_term and second_term \n",
    "    Step 5: Repeat the steps until second_term ≤ 1000 \n",
    "         5.1: temp ← second_term \n",
    "         5.2: second_term ← second_term + first_term \n",
    "         5.3: first_term ← temp \n",
    "         5.4: Display second_term \n",
    "    Step 6: Stop\n",
    "</code>"
   ]
  },
  {
   "cell_type": "code",
   "execution_count": 29,
   "metadata": {},
   "outputs": [
    {
     "name": "stdout",
     "output_type": "stream",
     "text": [
      "0\n",
      "1\n",
      "1\n",
      "2\n",
      "3\n",
      "5\n",
      "8\n",
      "13\n",
      "21\n",
      "34\n",
      "55\n",
      "89\n",
      "144\n",
      "233\n",
      "377\n",
      "610\n",
      "987\n",
      "1597\n"
     ]
    }
   ],
   "source": [
    "first_term = 0\n",
    "second_term = 1\n",
    "print(first_term, second_term, sep=\"\\n\")\n",
    "while second_term <= 1000:\n",
    "    temp = second_term\n",
    "    second_term = second_term + first_term\n",
    "    first_term = temp\n",
    "    print(second_term)"
   ]
  }
 ],
 "metadata": {
  "kernelspec": {
   "display_name": "Python 3",
   "language": "python",
   "name": "python3"
  },
  "language_info": {
   "codemirror_mode": {
    "name": "ipython",
    "version": 3
   },
   "file_extension": ".py",
   "mimetype": "text/x-python",
   "name": "python",
   "nbconvert_exporter": "python",
   "pygments_lexer": "ipython3",
   "version": "3.8.5"
  }
 },
 "nbformat": 4,
 "nbformat_minor": 4
}
